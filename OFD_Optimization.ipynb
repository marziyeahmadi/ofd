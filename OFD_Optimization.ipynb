{
  "nbformat": 4,
  "nbformat_minor": 0,
  "metadata": {
    "colab": {
      "provenance": [],
      "include_colab_link": true
    },
    "kernelspec": {
      "name": "python3",
      "display_name": "Python 3"
    },
    "language_info": {
      "name": "python"
    }
  },
  "cells": [
    {
      "cell_type": "markdown",
      "metadata": {
        "id": "view-in-github",
        "colab_type": "text"
      },
      "source": [
        "<a href=\"https://colab.research.google.com/github/marziyeahmadi/ofd/blob/main/OFD_Optimization.ipynb\" target=\"_parent\"><img src=\"https://colab.research.google.com/assets/colab-badge.svg\" alt=\"Open In Colab\"/></a>"
      ]
    },
    {
      "cell_type": "code",
      "execution_count": null,
      "metadata": {
        "colab": {
          "base_uri": "https://localhost:8080/"
        },
        "id": "j83qO4WEj0Fd",
        "outputId": "0f67c965-e54d-473b-e37a-59e3195db688"
      },
      "outputs": [
        {
          "output_type": "stream",
          "name": "stdout",
          "text": [
            "Collecting pulp\n",
            "  Downloading PuLP-3.0.2-py3-none-any.whl.metadata (6.7 kB)\n",
            "Downloading PuLP-3.0.2-py3-none-any.whl (17.7 MB)\n",
            "\u001b[2K   \u001b[90m━━━━━━━━━━━━━━━━━━━━━━━━━━━━━━━━━━━━━━━━\u001b[0m \u001b[32m17.7/17.7 MB\u001b[0m \u001b[31m41.6 MB/s\u001b[0m eta \u001b[36m0:00:00\u001b[0m\n",
            "\u001b[?25hInstalling collected packages: pulp\n",
            "Successfully installed pulp-3.0.2\n"
          ]
        }
      ],
      "source": [
        "# Import necessary libraries\n",
        "!pip install pulp\n",
        "import numpy as np\n",
        "import pandas as pd\n",
        "import pulp\n",
        "\n"
      ]
    },
    {
      "cell_type": "code",
      "source": [
        "# Simulation Parameters (Table 1)\n",
        "products = [\n",
        "    {\"id\": 1, \"price\": 10.00, \"station\": 1, \"dine_mean\": 100, \"dine_std\": 20, \"ofd_mean\": 100, \"ofd_std\": 20},\n",
        "    {\"id\": 2, \"price\": 11.00, \"station\": 1, \"dine_mean\": 80, \"dine_std\": 16, \"ofd_mean\": 80, \"ofd_std\": 16},\n",
        "    {\"id\": 3, \"price\": 12.00, \"station\": 2, \"dine_mean\": 100, \"dine_std\": 20, \"ofd_mean\": 100, \"ofd_std\": 20},\n",
        "    {\"id\": 4, \"price\": 13.00, \"station\": 2, \"dine_mean\": 80, \"dine_std\": 16, \"ofd_mean\": 80, \"ofd_std\": 16}\n",
        "]\n",
        "\n",
        "price_increase = [0, 0.15, 0.30, 0.45]  # No change, 15%, 30%, 45%\n",
        "delivery_commission = 0.30\n"
      ],
      "metadata": {
        "id": "Hj560JZj5_iY"
      },
      "execution_count": null,
      "outputs": []
    },
    {
      "cell_type": "code",
      "source": [
        "# Capacity scenarios\n",
        "capacity_scenarios = [(200 - i*10, 400 - i*20) for i in range(16)]"
      ],
      "metadata": {
        "id": "AbmfhBxS6DRK"
      },
      "execution_count": null,
      "outputs": []
    },
    {
      "cell_type": "code",
      "source": [
        "# Use PULP_CBC_CMD solver with `msg=False` to avoid subprocess calls\n",
        "solver = pulp.PULP_CBC_CMD(msg=False)"
      ],
      "metadata": {
        "id": "J-JPEug_6Huc"
      },
      "execution_count": null,
      "outputs": []
    },
    {
      "cell_type": "code",
      "source": [
        "# Forecasted demand (assuming this is incorporated as the mean)\n",
        "forecast_dine = [p[\"dine_mean\"] for p in products]\n",
        "forecast_ofd = [p[\"ofd_mean\"] for p in products]"
      ],
      "metadata": {
        "id": "RST_oaTg-i6e"
      },
      "execution_count": null,
      "outputs": []
    },
    {
      "cell_type": "code",
      "source": [
        "# Run simulation\n",
        "results_no_rm = []\n",
        "results_rm = []"
      ],
      "metadata": {
        "id": "vBBXTe8C6UdJ"
      },
      "execution_count": null,
      "outputs": []
    },
    {
      "cell_type": "code",
      "source": [
        "for product_cap, station_cap in capacity_scenarios:\n",
        "    dine_in_qty, dine_in_revenue, ofd_qty, ofd_revenue = 0, 0, 0, 0\n",
        "    dine_in_qty_rm, dine_in_revenue_rm, ofd_qty_rm, ofd_revenue_rm = 0, 0, 0, 0\n",
        "\n",
        "    for _ in range(100):\n",
        "        # Randomize actual demand around forecast\n",
        "        demand_dine = [max(0, np.random.normal(forecast_dine[i], products[i][\"dine_std\"])) for i in range(4)]\n",
        "        demand_ofd = [max(0, np.random.normal(forecast_ofd[i], products[i][\"ofd_std\"])) for i in range(4)]\n",
        "\n",
        "        # No RM scenario - adjust dine-in if OFD exceeds capacity\n",
        "        total_demand = np.array(demand_dine) + np.array(demand_ofd)\n",
        "        excess_ofd = np.maximum(0, total_demand - product_cap)\n",
        "        dine_in_fulfilled = np.maximum(0, demand_dine - excess_ofd)\n",
        "\n",
        "        dine_in_qty += sum(dine_in_fulfilled)\n",
        "        dine_in_revenue += sum(np.array(dine_in_fulfilled) * np.array([p[\"price\"] for p in products]))\n",
        "        ofd_qty += sum(demand_ofd)\n",
        "        ofd_revenue += sum(np.array(demand_ofd) * np.array([p[\"price\"] for p in products]))\n",
        "\n",
        "        # RM Scenario using integer programming\n",
        "        model = pulp.LpProblem(\"RM_Pricing\", pulp.LpMaximize)\n",
        "        x = pulp.LpVariable.dicts(\"x\", [(i, k) for i in range(4) for k in range(4)], 0, cat='Integer')\n",
        "\n",
        "        # Objective: Maximize revenue\n",
        "        model += pulp.lpSum([(products[i][\"price\"]*(1 + price_increase[k])) * x[(i,k)] for i in range(4) for k in range(4)])\n",
        "\n",
        "        # Demand constraints\n",
        "        for i in range(4):\n",
        "            model += pulp.lpSum([x[(i,k)] for k in range(4)]) <= demand_ofd[i]\n",
        "\n",
        "        # Capacity constraints per product\n",
        "        for i in range(4):\n",
        "            model += pulp.lpSum([x[(i,k)] for k in range(4)]) <= max(0, product_cap - demand_dine[i])\n",
        "\n",
        "        # Capacity constraints per station\n",
        "        for s in [1,2]:\n",
        "            model += pulp.lpSum([x[(i,k)] for i in range(4) if products[i][\"station\"] == s for k in range(4)]) <= max(0, station_cap - sum(demand_dine[i] for i in range(4) if products[i][\"station\"] == s))\n",
        "\n",
        "        # One price per product\n",
        "        for i in range(4):\n",
        "            model += pulp.lpSum([x[(i,k)] for k in range(4)]) <= demand_ofd[i]\n",
        "\n",
        "        model.solve(solver)\n",
        "\n",
        "        # RM results with error handling\n",
        "        ofd_qty_rm_run = sum(x[(i,k)].varValue or 0 for i in range(4) for k in range(4))\n",
        "        ofd_revenue_rm_run = sum((x[(i,k)].varValue or 0) * (products[i][\"price\"]*(1 + price_increase[k])) for i in range(4) for k in range(4))\n",
        "        dine_in_qty_rm += sum(demand_dine)\n",
        "        dine_in_revenue_rm += sum(np.array(demand_dine) * np.array([p[\"price\"] for p in products]))\n",
        "        ofd_qty_rm += ofd_qty_rm_run\n",
        "        ofd_revenue_rm += ofd_revenue_rm_run\n",
        "\n",
        "    # Average results\n",
        "    results_no_rm.append([product_cap*4, dine_in_qty/100, dine_in_revenue/100, ofd_qty/100, ofd_revenue/100])\n",
        "    results_rm.append([product_cap*4, dine_in_qty_rm/100, dine_in_revenue_rm/100, ofd_qty_rm/100, ofd_revenue_rm/100])\n"
      ],
      "metadata": {
        "id": "d10_IrHO98mx"
      },
      "execution_count": null,
      "outputs": []
    },
    {
      "cell_type": "code",
      "source": [
        "# Convert results to DataFrame\n",
        "results_no_rm_df = pd.DataFrame(results_no_rm, columns=['Total Capacity','Dine-in Qty','Dine-in Rev','OFD Qty','OFD Rev'])\n",
        "results_rm_df = pd.DataFrame(results_rm, columns=['Total Capacity','Dine-in Qty','Dine-in Rev','OFD Qty','OFD Rev'])\n"
      ],
      "metadata": {
        "id": "hnRZ4nkx6iik"
      },
      "execution_count": null,
      "outputs": []
    },
    {
      "cell_type": "code",
      "source": [
        "# Adjust for commission\n",
        "results_no_rm_df['Net Rev'] = results_no_rm_df['Dine-in Rev'] + results_no_rm_df['OFD Rev']*(1 - delivery_commission)\n",
        "results_rm_df['Net Rev'] = results_rm_df['Dine-in Rev'] + results_rm_df['OFD Rev']*(1 - delivery_commission)"
      ],
      "metadata": {
        "id": "MFMYnzkb6lFv"
      },
      "execution_count": null,
      "outputs": []
    },
    {
      "cell_type": "code",
      "source": [
        "# Output results\n",
        "print(\"Results without RM:\")\n",
        "print(results_no_rm_df)\n",
        "\n",
        "print(\"\\nResults with RM:\")\n",
        "print(results_rm_df)\n"
      ],
      "metadata": {
        "colab": {
          "base_uri": "https://localhost:8080/"
        },
        "id": "vJvHPfxk5HTc",
        "outputId": "f791548b-74d2-415f-d89b-df35d88ef027"
      },
      "execution_count": null,
      "outputs": [
        {
          "output_type": "stream",
          "name": "stdout",
          "text": [
            "Results without RM:\n",
            "    Total Capacity  Dine-in Qty  Dine-in Rev     OFD Qty      OFD Rev  \\\n",
            "0              800   335.500512  3846.145697  363.144192  4158.999780   \n",
            "1              760   318.509711  3657.527711  362.968760  4153.558406   \n",
            "2              720   310.461426  3577.765646  361.333430  4131.722220   \n",
            "3              680   287.178449  3306.862268  361.574363  4141.617464   \n",
            "4              640   256.301664  2960.192138  365.791283  4187.190679   \n",
            "5              600   228.362780  2636.932277  361.432963  4143.061412   \n",
            "6              560   198.625223  2301.505526  356.157458  4077.610857   \n",
            "7              520   162.056281  1873.952854  357.242096  4096.170264   \n",
            "8              480   120.886701  1411.226360  363.450829  4154.402579   \n",
            "9              440    88.036739  1031.243907  361.600874  4135.069588   \n",
            "10             400    58.817970   688.623521  360.150332  4122.573867   \n",
            "11             360    33.128929   389.558534  360.398134  4124.206565   \n",
            "12             320    16.119715   189.776457  360.783309  4132.959926   \n",
            "13             280     5.931167    69.636585  358.432751  4101.991617   \n",
            "14             240     1.589079    19.144226  354.908779  4056.062916   \n",
            "15             200     0.684190     8.237375  356.022262  4079.204732   \n",
            "\n",
            "        Net Rev  \n",
            "0   6757.445543  \n",
            "1   6565.018595  \n",
            "2   6469.971200  \n",
            "3   6205.994493  \n",
            "4   5891.225613  \n",
            "5   5537.075266  \n",
            "6   5155.833126  \n",
            "7   4741.272039  \n",
            "8   4319.308165  \n",
            "9   3925.792619  \n",
            "10  3574.425227  \n",
            "11  3276.503130  \n",
            "12  3082.848406  \n",
            "13  2941.030717  \n",
            "14  2858.388268  \n",
            "15  2863.680688  \n",
            "\n",
            "Results with RM:\n",
            "    Total Capacity  Dine-in Qty  Dine-in Rev  OFD Qty    OFD Rev      Net Rev\n",
            "0              800   356.061318  4072.091983   340.57  5669.4710  8040.721683\n",
            "1              760   356.623571  4078.358247   322.86  5379.1955  7843.795097\n",
            "2              720   364.748813  4175.287308   305.02  5090.7615  7738.820358\n",
            "3              680   359.092955  4107.941229   287.65  4810.3025  7475.152979\n",
            "4              640   361.027536  4134.809707   259.07  4334.8765  7169.223257\n",
            "5              600   361.661014  4138.996829   226.11  3795.5780  6795.901429\n",
            "6              560   357.270349  4093.587967   195.53  3279.9870  6389.578867\n",
            "7              520   361.536140  4132.182712   154.74  2614.3210  5962.207412\n",
            "8              480   361.081477  4136.829755   116.47  1959.7765  5508.673305\n",
            "9              440   361.192549  4134.973865    78.41  1325.3725  5062.734615\n",
            "10             400   358.397067  4102.290165    46.43   786.2480  4652.663765\n",
            "11             360   360.165778  4115.788668    20.64   353.4955  4363.235518\n",
            "12             320   361.846906  4137.537086     5.44    91.6690  4201.705386\n",
            "13             280   360.969744  4134.172592     0.84    13.8765  4143.886142\n",
            "14             240   360.879124  4129.878889     0.05     0.8845  4130.498039\n",
            "15             200   369.818778  4234.625118     0.00     0.0000  4234.625118\n"
          ]
        }
      ]
    }
  ]
}